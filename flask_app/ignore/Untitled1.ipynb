{
 "cells": [
  {
   "cell_type": "code",
   "execution_count": null,
   "metadata": {},
   "outputs": [],
   "source": [
    "import numpy as np\n",
    "import matplotlib.pyplot as plt\n",
    "import pandas as pd\n",
    "# Importing the dataset\n",
    "dataset = pd.read_csv(‘kc_house_data.csv’)\n",
    "X = dataset.iloc[:, [2,3,4,5,6,7,8,9,10,11,12,16,17,18,19]].values\n",
    "y = dataset.iloc[:, -1].values\n",
    "\n",
    "# Splitting the dataset into the Training set and Test set\n",
    "from sklearn.model_selection import train_test_split\n",
    "X_train, X_test, y_train, y_test = train_test_split(X, y, test_size = 0.2, random_state = 0)\n",
    "import xgboost\n",
    "xgb = xgboost.XGBRegressor(n_estimators=100, learning_rate=0.08, gamma=0, subsample=0.75,colsample_bytree=1, max_depth=7)\n",
    "traindf, testdf = train_test_split(X_train, test_size = 0.2)\n",
    "res=xgb.fit(X_train,y_train)\n",
    "import joblib\n",
    "joblib.dump(res, \"model.pkl\")\n",
    "cols=[\"bedrooms\",\"bathrooms\",\"sqft_living\",\"sqft_lot\",\"floors\",\"waterfront\",\"view\",\n",
    "\"condition\",\"grade\",\"sqft_above\",\"sqft_basement\",\"lat\",\"long\",\"sqft_living15\",\"sqft_lot15\"]\n",
    "joblib.dump(cols, \"model_cols.pkl\")\n"
   ]
  }
 ],
 "metadata": {
  "kernelspec": {
   "display_name": "Python 3",
   "language": "python",
   "name": "python3"
  },
  "language_info": {
   "codemirror_mode": {
    "name": "ipython",
    "version": 3
   },
   "file_extension": ".py",
   "mimetype": "text/x-python",
   "name": "python",
   "nbconvert_exporter": "python",
   "pygments_lexer": "ipython3",
   "version": "3.7.6"
  }
 },
 "nbformat": 4,
 "nbformat_minor": 4
}
