{
  "nbformat": 4,
  "nbformat_minor": 0,
  "metadata": {
    "colab": {
      "name": "xgboost.ipynb",
      "provenance": []
    },
    "kernelspec": {
      "name": "python3",
      "display_name": "Python 3"
    }
  },
  "cells": [
    {
      "cell_type": "code",
      "metadata": {
        "id": "YiLNjvLpAKZm"
      },
      "source": [
        "import pandas as pd\n",
        "import numpy as np\n",
        "import random\n",
        "import matplotlib.pyplot as plt\n",
        "import seaborn as sns\n",
        "import missingno as mnso\n",
        "import pprint\n",
        "# machine learning libraries\n",
        "from sklearn.model_selection import train_test_split\n",
        "import xgboost as xgb\n",
        "from sklearn.metrics import mean_squared_error"
      ],
      "execution_count": 1,
      "outputs": []
    },
    {
      "cell_type": "markdown",
      "metadata": {
        "id": "c6Yb1k5nBMC2"
      },
      "source": [
        "# Dataset"
      ]
    },
    {
      "cell_type": "markdown",
      "metadata": {
        "id": "xRUuRNAXQRKM"
      },
      "source": [
        "### Attributes"
      ]
    },
    {
      "cell_type": "markdown",
      "metadata": {
        "id": "_vNcjcijBPqr"
      },
      "source": [
        "- Combustible consumido ((0,20)) litros\n",
        "- Tipo de combustible (Gasolina,Diesel,Gas)\n",
        "- Kilometraje (km)\n",
        "- Emisión del tubo de escape (hardware) (1 al 10) malo -> bueno\n",
        "- Marca Camión (4 marcas)\n",
        "- Modelo (2 modelos por marca)\n",
        "- Tipo Transmisión (manual, automática)\n",
        "- Capacidad (Kg)"
      ]
    },
    {
      "cell_type": "markdown",
      "metadata": {
        "id": "4H8QBt0zNkOP"
      },
      "source": [
        "- fiat: \n",
        "1. ducato 900 kg\n",
        "2. fiorino 650 kg\n",
        "\n",
        "- volkswagen:\n",
        "1. amarok 830 kg\n",
        "2. caddy 800 kg\n",
        "\n",
        "- renaut:\n",
        "1. dacia dokker 1200 kg\n",
        "2. kangoo 800 kg\n",
        "\n",
        "- Mercedes:\n",
        "1. vito: 1100 kg\n",
        "2. sprinter 1000 kg"
      ]
    },
    {
      "cell_type": "markdown",
      "metadata": {
        "id": "Ml-M9Wl5QxNC"
      },
      "source": [
        "## Creating the dataset"
      ]
    },
    {
      "cell_type": "code",
      "metadata": {
        "id": "XOM3H7eyOOF0"
      },
      "source": [
        "# Filling the attributes column.\n",
        "rows = 100\n",
        "combustible_consumido = random.choices(list(np.random.rand(rows)*20), weights=None, k=rows)\n",
        "tipo_combustible = random.choices([\"gas\", \"diesel\", \"gasolina\"], weights= [40,35,25], k=rows)\n",
        "km = [random.uniform(100,2000) for x in range(rows)]\n",
        "Emision_escape = random.choices([6,7,8,9], weights= [10,40,40,10], k=rows)\n",
        "marca_camion = random.choices([\"Volkswagen\", \"Fiat\", \"Renaut\", \"Mercedes\"], weights = None, k=rows)\n",
        "modelo = list(range(rows))\n",
        "tipo_transm = random.choices([\"manual\", \"automatica\"], weights=[80,20], k=rows)\n",
        "capacidad = list(range(rows)) "
      ],
      "execution_count": 2,
      "outputs": []
    },
    {
      "cell_type": "code",
      "metadata": {
        "id": "sWFugNriQttP"
      },
      "source": [
        "df = pd.DataFrame({\"combustible_consumido\":combustible_consumido,\n",
        "                   \"tipo_combustible\":tipo_combustible,\n",
        "                   \"km\":km,\n",
        "                   \"emision_escape\":Emision_escape,\n",
        "                   \"marca_camion\":marca_camion,\n",
        "                   \"modelo\":modelo,\n",
        "                   \"tipo_transm\":tipo_transm,\n",
        "                   \"capacidad\":capacidad})"
      ],
      "execution_count": 3,
      "outputs": []
    },
    {
      "cell_type": "code",
      "metadata": {
        "colab": {
          "base_uri": "https://localhost:8080/",
          "height": 391
        },
        "id": "7uct63dDOOhZ",
        "outputId": "58df91fd-5e18-4eb3-ae14-b37c070bdbb5"
      },
      "source": [
        "df"
      ],
      "execution_count": 4,
      "outputs": [
        {
          "output_type": "execute_result",
          "data": {
            "text/html": [
              "<div>\n",
              "<style scoped>\n",
              "    .dataframe tbody tr th:only-of-type {\n",
              "        vertical-align: middle;\n",
              "    }\n",
              "\n",
              "    .dataframe tbody tr th {\n",
              "        vertical-align: top;\n",
              "    }\n",
              "\n",
              "    .dataframe thead th {\n",
              "        text-align: right;\n",
              "    }\n",
              "</style>\n",
              "<table border=\"1\" class=\"dataframe\">\n",
              "  <thead>\n",
              "    <tr style=\"text-align: right;\">\n",
              "      <th></th>\n",
              "      <th>combustible_consumido</th>\n",
              "      <th>tipo_combustible</th>\n",
              "      <th>km</th>\n",
              "      <th>emision_escape</th>\n",
              "      <th>marca_camion</th>\n",
              "      <th>modelo</th>\n",
              "      <th>tipo_transm</th>\n",
              "      <th>capacidad</th>\n",
              "    </tr>\n",
              "  </thead>\n",
              "  <tbody>\n",
              "    <tr>\n",
              "      <th>0</th>\n",
              "      <td>18.959341</td>\n",
              "      <td>gasolina</td>\n",
              "      <td>305.633430</td>\n",
              "      <td>8</td>\n",
              "      <td>Volkswagen</td>\n",
              "      <td>0</td>\n",
              "      <td>automatica</td>\n",
              "      <td>0</td>\n",
              "    </tr>\n",
              "    <tr>\n",
              "      <th>1</th>\n",
              "      <td>14.196334</td>\n",
              "      <td>diesel</td>\n",
              "      <td>577.128778</td>\n",
              "      <td>8</td>\n",
              "      <td>Volkswagen</td>\n",
              "      <td>1</td>\n",
              "      <td>manual</td>\n",
              "      <td>1</td>\n",
              "    </tr>\n",
              "    <tr>\n",
              "      <th>2</th>\n",
              "      <td>15.817995</td>\n",
              "      <td>gas</td>\n",
              "      <td>1680.319840</td>\n",
              "      <td>9</td>\n",
              "      <td>Renaut</td>\n",
              "      <td>2</td>\n",
              "      <td>manual</td>\n",
              "      <td>2</td>\n",
              "    </tr>\n",
              "    <tr>\n",
              "      <th>3</th>\n",
              "      <td>15.316800</td>\n",
              "      <td>gas</td>\n",
              "      <td>310.406932</td>\n",
              "      <td>8</td>\n",
              "      <td>Volkswagen</td>\n",
              "      <td>3</td>\n",
              "      <td>manual</td>\n",
              "      <td>3</td>\n",
              "    </tr>\n",
              "    <tr>\n",
              "      <th>4</th>\n",
              "      <td>7.124093</td>\n",
              "      <td>diesel</td>\n",
              "      <td>560.996378</td>\n",
              "      <td>9</td>\n",
              "      <td>Volkswagen</td>\n",
              "      <td>4</td>\n",
              "      <td>manual</td>\n",
              "      <td>4</td>\n",
              "    </tr>\n",
              "    <tr>\n",
              "      <th>...</th>\n",
              "      <td>...</td>\n",
              "      <td>...</td>\n",
              "      <td>...</td>\n",
              "      <td>...</td>\n",
              "      <td>...</td>\n",
              "      <td>...</td>\n",
              "      <td>...</td>\n",
              "      <td>...</td>\n",
              "    </tr>\n",
              "    <tr>\n",
              "      <th>95</th>\n",
              "      <td>5.935534</td>\n",
              "      <td>diesel</td>\n",
              "      <td>1589.407813</td>\n",
              "      <td>7</td>\n",
              "      <td>Mercedes</td>\n",
              "      <td>95</td>\n",
              "      <td>manual</td>\n",
              "      <td>95</td>\n",
              "    </tr>\n",
              "    <tr>\n",
              "      <th>96</th>\n",
              "      <td>14.196334</td>\n",
              "      <td>diesel</td>\n",
              "      <td>460.316669</td>\n",
              "      <td>6</td>\n",
              "      <td>Volkswagen</td>\n",
              "      <td>96</td>\n",
              "      <td>automatica</td>\n",
              "      <td>96</td>\n",
              "    </tr>\n",
              "    <tr>\n",
              "      <th>97</th>\n",
              "      <td>5.757383</td>\n",
              "      <td>diesel</td>\n",
              "      <td>862.584345</td>\n",
              "      <td>7</td>\n",
              "      <td>Volkswagen</td>\n",
              "      <td>97</td>\n",
              "      <td>automatica</td>\n",
              "      <td>97</td>\n",
              "    </tr>\n",
              "    <tr>\n",
              "      <th>98</th>\n",
              "      <td>7.958588</td>\n",
              "      <td>gas</td>\n",
              "      <td>1083.056814</td>\n",
              "      <td>7</td>\n",
              "      <td>Renaut</td>\n",
              "      <td>98</td>\n",
              "      <td>manual</td>\n",
              "      <td>98</td>\n",
              "    </tr>\n",
              "    <tr>\n",
              "      <th>99</th>\n",
              "      <td>1.788505</td>\n",
              "      <td>gas</td>\n",
              "      <td>1263.961518</td>\n",
              "      <td>7</td>\n",
              "      <td>Mercedes</td>\n",
              "      <td>99</td>\n",
              "      <td>manual</td>\n",
              "      <td>99</td>\n",
              "    </tr>\n",
              "  </tbody>\n",
              "</table>\n",
              "<p>100 rows × 8 columns</p>\n",
              "</div>"
            ],
            "text/plain": [
              "    combustible_consumido tipo_combustible  ...  tipo_transm  capacidad\n",
              "0               18.959341         gasolina  ...   automatica          0\n",
              "1               14.196334           diesel  ...       manual          1\n",
              "2               15.817995              gas  ...       manual          2\n",
              "3               15.316800              gas  ...       manual          3\n",
              "4                7.124093           diesel  ...       manual          4\n",
              "..                    ...              ...  ...          ...        ...\n",
              "95               5.935534           diesel  ...       manual         95\n",
              "96              14.196334           diesel  ...   automatica         96\n",
              "97               5.757383           diesel  ...   automatica         97\n",
              "98               7.958588              gas  ...       manual         98\n",
              "99               1.788505              gas  ...       manual         99\n",
              "\n",
              "[100 rows x 8 columns]"
            ]
          },
          "metadata": {
            "tags": []
          },
          "execution_count": 4
        }
      ]
    },
    {
      "cell_type": "code",
      "metadata": {
        "colab": {
          "base_uri": "https://localhost:8080/"
        },
        "id": "8UE-gmM-Tttj",
        "outputId": "f9ee33f2-7772-4732-bdee-8024e80ed0fd"
      },
      "source": [
        "# Cheking if exist 0 value in the combustible_consumo column\n",
        "df.combustible_consumido.loc[df[\"combustible_consumido\"]==0]"
      ],
      "execution_count": 5,
      "outputs": [
        {
          "output_type": "execute_result",
          "data": {
            "text/plain": [
              "Series([], Name: combustible_consumido, dtype: float64)"
            ]
          },
          "metadata": {
            "tags": []
          },
          "execution_count": 5
        }
      ]
    },
    {
      "cell_type": "markdown",
      "metadata": {
        "id": "IMh0pGBlUEx4"
      },
      "source": [
        "### Filling the modelo column and capacidad column"
      ]
    },
    {
      "cell_type": "code",
      "metadata": {
        "colab": {
          "base_uri": "https://localhost:8080/"
        },
        "id": "F71zivSlTyf8",
        "outputId": "0c3201e5-87ba-4d1d-8ea1-85d021db5a5d"
      },
      "source": [
        "for i in range(len(df)):\n",
        "  if df[\"marca_camion\"][i] == \"Mercedes\":\n",
        "    df[\"modelo\"][i] = random.choice([\"vito\",\"sprinter\"])\n",
        "    if df[\"modelo\"][i] == \"vito\":\n",
        "      df[\"capacidad\"][i] = 1100\n",
        "    else:\n",
        "      df[\"capacidad\"][i] = 1000\n",
        "  elif df[\"marca_camion\"][i] == \"Fiat\":\n",
        "    df[\"modelo\"][i] = random.choice([\"ducato\",\"fiorino\"])\n",
        "    if df[\"modelo\"][i] == \"ducato\":\n",
        "      df[\"capacidad\"][i] = 900\n",
        "    else:\n",
        "      df[\"capacidad\"][i] = 650\n",
        "  elif df[\"marca_camion\"][i] == \"Renaut\":\n",
        "    df[\"modelo\"][i] = random.choice([\"dacia dokker\",\"kangoo\"])\n",
        "    if df[\"modelo\"][i] == \"dacia dokker\":\n",
        "      df[\"capacidad\"][i] = 1200\n",
        "    else:\n",
        "      df[\"capacidad\"][i] = 800\n",
        "  elif df[\"marca_camion\"][i] == \"Volkswagen\":\n",
        "    df[\"modelo\"][i] = random.choice([\"amarok\",\"caddy\"])\n",
        "    if df[\"modelo\"][i] == \"amarok\":\n",
        "      df[\"capacidad\"][i] = 830\n",
        "    else:\n",
        "      df[\"capacidad\"][i] = 800\n",
        "\n"
      ],
      "execution_count": 6,
      "outputs": [
        {
          "output_type": "stream",
          "text": [
            "/usr/local/lib/python3.6/dist-packages/ipykernel_launcher.py:21: SettingWithCopyWarning: \n",
            "A value is trying to be set on a copy of a slice from a DataFrame\n",
            "\n",
            "See the caveats in the documentation: https://pandas.pydata.org/pandas-docs/stable/user_guide/indexing.html#returning-a-view-versus-a-copy\n",
            "/usr/local/lib/python3.6/dist-packages/pandas/core/indexing.py:670: SettingWithCopyWarning: \n",
            "A value is trying to be set on a copy of a slice from a DataFrame\n",
            "\n",
            "See the caveats in the documentation: https://pandas.pydata.org/pandas-docs/stable/user_guide/indexing.html#returning-a-view-versus-a-copy\n",
            "  iloc._setitem_with_indexer(indexer, value)\n",
            "/usr/local/lib/python3.6/dist-packages/ipykernel_launcher.py:25: SettingWithCopyWarning: \n",
            "A value is trying to be set on a copy of a slice from a DataFrame\n",
            "\n",
            "See the caveats in the documentation: https://pandas.pydata.org/pandas-docs/stable/user_guide/indexing.html#returning-a-view-versus-a-copy\n",
            "/usr/local/lib/python3.6/dist-packages/ipykernel_launcher.py:15: SettingWithCopyWarning: \n",
            "A value is trying to be set on a copy of a slice from a DataFrame\n",
            "\n",
            "See the caveats in the documentation: https://pandas.pydata.org/pandas-docs/stable/user_guide/indexing.html#returning-a-view-versus-a-copy\n",
            "  from ipykernel import kernelapp as app\n",
            "/usr/local/lib/python3.6/dist-packages/ipykernel_launcher.py:17: SettingWithCopyWarning: \n",
            "A value is trying to be set on a copy of a slice from a DataFrame\n",
            "\n",
            "See the caveats in the documentation: https://pandas.pydata.org/pandas-docs/stable/user_guide/indexing.html#returning-a-view-versus-a-copy\n",
            "/usr/local/lib/python3.6/dist-packages/ipykernel_launcher.py:23: SettingWithCopyWarning: \n",
            "A value is trying to be set on a copy of a slice from a DataFrame\n",
            "\n",
            "See the caveats in the documentation: https://pandas.pydata.org/pandas-docs/stable/user_guide/indexing.html#returning-a-view-versus-a-copy\n",
            "/usr/local/lib/python3.6/dist-packages/ipykernel_launcher.py:9: SettingWithCopyWarning: \n",
            "A value is trying to be set on a copy of a slice from a DataFrame\n",
            "\n",
            "See the caveats in the documentation: https://pandas.pydata.org/pandas-docs/stable/user_guide/indexing.html#returning-a-view-versus-a-copy\n",
            "  if __name__ == '__main__':\n",
            "/usr/local/lib/python3.6/dist-packages/ipykernel_launcher.py:13: SettingWithCopyWarning: \n",
            "A value is trying to be set on a copy of a slice from a DataFrame\n",
            "\n",
            "See the caveats in the documentation: https://pandas.pydata.org/pandas-docs/stable/user_guide/indexing.html#returning-a-view-versus-a-copy\n",
            "  del sys.path[0]\n",
            "/usr/local/lib/python3.6/dist-packages/ipykernel_launcher.py:3: SettingWithCopyWarning: \n",
            "A value is trying to be set on a copy of a slice from a DataFrame\n",
            "\n",
            "See the caveats in the documentation: https://pandas.pydata.org/pandas-docs/stable/user_guide/indexing.html#returning-a-view-versus-a-copy\n",
            "  This is separate from the ipykernel package so we can avoid doing imports until\n",
            "/usr/local/lib/python3.6/dist-packages/ipykernel_launcher.py:7: SettingWithCopyWarning: \n",
            "A value is trying to be set on a copy of a slice from a DataFrame\n",
            "\n",
            "See the caveats in the documentation: https://pandas.pydata.org/pandas-docs/stable/user_guide/indexing.html#returning-a-view-versus-a-copy\n",
            "  import sys\n",
            "/usr/local/lib/python3.6/dist-packages/ipykernel_launcher.py:19: SettingWithCopyWarning: \n",
            "A value is trying to be set on a copy of a slice from a DataFrame\n",
            "\n",
            "See the caveats in the documentation: https://pandas.pydata.org/pandas-docs/stable/user_guide/indexing.html#returning-a-view-versus-a-copy\n",
            "/usr/local/lib/python3.6/dist-packages/ipykernel_launcher.py:11: SettingWithCopyWarning: \n",
            "A value is trying to be set on a copy of a slice from a DataFrame\n",
            "\n",
            "See the caveats in the documentation: https://pandas.pydata.org/pandas-docs/stable/user_guide/indexing.html#returning-a-view-versus-a-copy\n",
            "  # This is added back by InteractiveShellApp.init_path()\n",
            "/usr/local/lib/python3.6/dist-packages/ipykernel_launcher.py:5: SettingWithCopyWarning: \n",
            "A value is trying to be set on a copy of a slice from a DataFrame\n",
            "\n",
            "See the caveats in the documentation: https://pandas.pydata.org/pandas-docs/stable/user_guide/indexing.html#returning-a-view-versus-a-copy\n",
            "  \"\"\"\n"
          ],
          "name": "stderr"
        }
      ]
    },
    {
      "cell_type": "code",
      "metadata": {
        "colab": {
          "base_uri": "https://localhost:8080/",
          "height": 910
        },
        "id": "d01ngBL8aTJf",
        "outputId": "f58c91f9-2a71-454b-cdf9-16b68af55085"
      },
      "source": [
        "# A sample of the dataset\n",
        "df.sample(30)"
      ],
      "execution_count": 7,
      "outputs": [
        {
          "output_type": "execute_result",
          "data": {
            "text/html": [
              "<div>\n",
              "<style scoped>\n",
              "    .dataframe tbody tr th:only-of-type {\n",
              "        vertical-align: middle;\n",
              "    }\n",
              "\n",
              "    .dataframe tbody tr th {\n",
              "        vertical-align: top;\n",
              "    }\n",
              "\n",
              "    .dataframe thead th {\n",
              "        text-align: right;\n",
              "    }\n",
              "</style>\n",
              "<table border=\"1\" class=\"dataframe\">\n",
              "  <thead>\n",
              "    <tr style=\"text-align: right;\">\n",
              "      <th></th>\n",
              "      <th>combustible_consumido</th>\n",
              "      <th>tipo_combustible</th>\n",
              "      <th>km</th>\n",
              "      <th>emision_escape</th>\n",
              "      <th>marca_camion</th>\n",
              "      <th>modelo</th>\n",
              "      <th>tipo_transm</th>\n",
              "      <th>capacidad</th>\n",
              "    </tr>\n",
              "  </thead>\n",
              "  <tbody>\n",
              "    <tr>\n",
              "      <th>14</th>\n",
              "      <td>15.712042</td>\n",
              "      <td>gasolina</td>\n",
              "      <td>1073.584871</td>\n",
              "      <td>7</td>\n",
              "      <td>Volkswagen</td>\n",
              "      <td>caddy</td>\n",
              "      <td>manual</td>\n",
              "      <td>800</td>\n",
              "    </tr>\n",
              "    <tr>\n",
              "      <th>32</th>\n",
              "      <td>17.172537</td>\n",
              "      <td>gasolina</td>\n",
              "      <td>1470.171431</td>\n",
              "      <td>7</td>\n",
              "      <td>Mercedes</td>\n",
              "      <td>sprinter</td>\n",
              "      <td>manual</td>\n",
              "      <td>1000</td>\n",
              "    </tr>\n",
              "    <tr>\n",
              "      <th>74</th>\n",
              "      <td>1.344234</td>\n",
              "      <td>gas</td>\n",
              "      <td>374.084418</td>\n",
              "      <td>7</td>\n",
              "      <td>Fiat</td>\n",
              "      <td>fiorino</td>\n",
              "      <td>manual</td>\n",
              "      <td>650</td>\n",
              "    </tr>\n",
              "    <tr>\n",
              "      <th>66</th>\n",
              "      <td>4.313198</td>\n",
              "      <td>gas</td>\n",
              "      <td>1233.324187</td>\n",
              "      <td>8</td>\n",
              "      <td>Renaut</td>\n",
              "      <td>dacia dokker</td>\n",
              "      <td>manual</td>\n",
              "      <td>1200</td>\n",
              "    </tr>\n",
              "    <tr>\n",
              "      <th>2</th>\n",
              "      <td>15.817995</td>\n",
              "      <td>gas</td>\n",
              "      <td>1680.319840</td>\n",
              "      <td>9</td>\n",
              "      <td>Renaut</td>\n",
              "      <td>dacia dokker</td>\n",
              "      <td>manual</td>\n",
              "      <td>1200</td>\n",
              "    </tr>\n",
              "    <tr>\n",
              "      <th>26</th>\n",
              "      <td>13.871639</td>\n",
              "      <td>gas</td>\n",
              "      <td>948.794144</td>\n",
              "      <td>6</td>\n",
              "      <td>Fiat</td>\n",
              "      <td>ducato</td>\n",
              "      <td>manual</td>\n",
              "      <td>900</td>\n",
              "    </tr>\n",
              "    <tr>\n",
              "      <th>62</th>\n",
              "      <td>18.055407</td>\n",
              "      <td>gasolina</td>\n",
              "      <td>1751.432078</td>\n",
              "      <td>7</td>\n",
              "      <td>Fiat</td>\n",
              "      <td>ducato</td>\n",
              "      <td>manual</td>\n",
              "      <td>900</td>\n",
              "    </tr>\n",
              "    <tr>\n",
              "      <th>80</th>\n",
              "      <td>1.553313</td>\n",
              "      <td>diesel</td>\n",
              "      <td>938.425615</td>\n",
              "      <td>8</td>\n",
              "      <td>Mercedes</td>\n",
              "      <td>vito</td>\n",
              "      <td>manual</td>\n",
              "      <td>1100</td>\n",
              "    </tr>\n",
              "    <tr>\n",
              "      <th>23</th>\n",
              "      <td>18.775130</td>\n",
              "      <td>gas</td>\n",
              "      <td>851.905702</td>\n",
              "      <td>6</td>\n",
              "      <td>Volkswagen</td>\n",
              "      <td>amarok</td>\n",
              "      <td>manual</td>\n",
              "      <td>830</td>\n",
              "    </tr>\n",
              "    <tr>\n",
              "      <th>84</th>\n",
              "      <td>3.478857</td>\n",
              "      <td>gas</td>\n",
              "      <td>1242.565357</td>\n",
              "      <td>8</td>\n",
              "      <td>Fiat</td>\n",
              "      <td>fiorino</td>\n",
              "      <td>manual</td>\n",
              "      <td>650</td>\n",
              "    </tr>\n",
              "    <tr>\n",
              "      <th>41</th>\n",
              "      <td>5.935534</td>\n",
              "      <td>gas</td>\n",
              "      <td>258.342429</td>\n",
              "      <td>8</td>\n",
              "      <td>Renaut</td>\n",
              "      <td>kangoo</td>\n",
              "      <td>automatica</td>\n",
              "      <td>800</td>\n",
              "    </tr>\n",
              "    <tr>\n",
              "      <th>46</th>\n",
              "      <td>10.973853</td>\n",
              "      <td>gas</td>\n",
              "      <td>613.616864</td>\n",
              "      <td>7</td>\n",
              "      <td>Fiat</td>\n",
              "      <td>ducato</td>\n",
              "      <td>manual</td>\n",
              "      <td>900</td>\n",
              "    </tr>\n",
              "    <tr>\n",
              "      <th>0</th>\n",
              "      <td>18.959341</td>\n",
              "      <td>gasolina</td>\n",
              "      <td>305.633430</td>\n",
              "      <td>8</td>\n",
              "      <td>Volkswagen</td>\n",
              "      <td>caddy</td>\n",
              "      <td>automatica</td>\n",
              "      <td>800</td>\n",
              "    </tr>\n",
              "    <tr>\n",
              "      <th>58</th>\n",
              "      <td>17.946820</td>\n",
              "      <td>gasolina</td>\n",
              "      <td>1752.815054</td>\n",
              "      <td>9</td>\n",
              "      <td>Renaut</td>\n",
              "      <td>kangoo</td>\n",
              "      <td>manual</td>\n",
              "      <td>800</td>\n",
              "    </tr>\n",
              "    <tr>\n",
              "      <th>43</th>\n",
              "      <td>1.344234</td>\n",
              "      <td>gas</td>\n",
              "      <td>1825.006474</td>\n",
              "      <td>6</td>\n",
              "      <td>Fiat</td>\n",
              "      <td>ducato</td>\n",
              "      <td>automatica</td>\n",
              "      <td>900</td>\n",
              "    </tr>\n",
              "    <tr>\n",
              "      <th>69</th>\n",
              "      <td>18.775130</td>\n",
              "      <td>diesel</td>\n",
              "      <td>1610.093695</td>\n",
              "      <td>7</td>\n",
              "      <td>Mercedes</td>\n",
              "      <td>vito</td>\n",
              "      <td>manual</td>\n",
              "      <td>1100</td>\n",
              "    </tr>\n",
              "    <tr>\n",
              "      <th>52</th>\n",
              "      <td>7.124093</td>\n",
              "      <td>gas</td>\n",
              "      <td>1005.386610</td>\n",
              "      <td>8</td>\n",
              "      <td>Fiat</td>\n",
              "      <td>ducato</td>\n",
              "      <td>manual</td>\n",
              "      <td>900</td>\n",
              "    </tr>\n",
              "    <tr>\n",
              "      <th>7</th>\n",
              "      <td>7.498964</td>\n",
              "      <td>gasolina</td>\n",
              "      <td>1093.022415</td>\n",
              "      <td>7</td>\n",
              "      <td>Volkswagen</td>\n",
              "      <td>amarok</td>\n",
              "      <td>manual</td>\n",
              "      <td>830</td>\n",
              "    </tr>\n",
              "    <tr>\n",
              "      <th>88</th>\n",
              "      <td>5.757383</td>\n",
              "      <td>gasolina</td>\n",
              "      <td>1823.243840</td>\n",
              "      <td>6</td>\n",
              "      <td>Fiat</td>\n",
              "      <td>fiorino</td>\n",
              "      <td>manual</td>\n",
              "      <td>650</td>\n",
              "    </tr>\n",
              "    <tr>\n",
              "      <th>76</th>\n",
              "      <td>11.775157</td>\n",
              "      <td>diesel</td>\n",
              "      <td>1044.210683</td>\n",
              "      <td>6</td>\n",
              "      <td>Volkswagen</td>\n",
              "      <td>caddy</td>\n",
              "      <td>manual</td>\n",
              "      <td>800</td>\n",
              "    </tr>\n",
              "    <tr>\n",
              "      <th>94</th>\n",
              "      <td>5.935534</td>\n",
              "      <td>diesel</td>\n",
              "      <td>1561.887699</td>\n",
              "      <td>9</td>\n",
              "      <td>Volkswagen</td>\n",
              "      <td>amarok</td>\n",
              "      <td>manual</td>\n",
              "      <td>830</td>\n",
              "    </tr>\n",
              "    <tr>\n",
              "      <th>57</th>\n",
              "      <td>13.332596</td>\n",
              "      <td>diesel</td>\n",
              "      <td>904.755768</td>\n",
              "      <td>7</td>\n",
              "      <td>Renaut</td>\n",
              "      <td>dacia dokker</td>\n",
              "      <td>manual</td>\n",
              "      <td>1200</td>\n",
              "    </tr>\n",
              "    <tr>\n",
              "      <th>39</th>\n",
              "      <td>14.390911</td>\n",
              "      <td>gasolina</td>\n",
              "      <td>443.978250</td>\n",
              "      <td>8</td>\n",
              "      <td>Volkswagen</td>\n",
              "      <td>amarok</td>\n",
              "      <td>manual</td>\n",
              "      <td>830</td>\n",
              "    </tr>\n",
              "    <tr>\n",
              "      <th>89</th>\n",
              "      <td>5.935534</td>\n",
              "      <td>gas</td>\n",
              "      <td>1956.975408</td>\n",
              "      <td>7</td>\n",
              "      <td>Mercedes</td>\n",
              "      <td>vito</td>\n",
              "      <td>manual</td>\n",
              "      <td>1100</td>\n",
              "    </tr>\n",
              "    <tr>\n",
              "      <th>47</th>\n",
              "      <td>5.935534</td>\n",
              "      <td>gas</td>\n",
              "      <td>1424.049453</td>\n",
              "      <td>7</td>\n",
              "      <td>Volkswagen</td>\n",
              "      <td>caddy</td>\n",
              "      <td>manual</td>\n",
              "      <td>800</td>\n",
              "    </tr>\n",
              "    <tr>\n",
              "      <th>63</th>\n",
              "      <td>1.281951</td>\n",
              "      <td>gas</td>\n",
              "      <td>932.663444</td>\n",
              "      <td>8</td>\n",
              "      <td>Mercedes</td>\n",
              "      <td>vito</td>\n",
              "      <td>manual</td>\n",
              "      <td>1100</td>\n",
              "    </tr>\n",
              "    <tr>\n",
              "      <th>13</th>\n",
              "      <td>16.862238</td>\n",
              "      <td>gas</td>\n",
              "      <td>634.718680</td>\n",
              "      <td>8</td>\n",
              "      <td>Fiat</td>\n",
              "      <td>fiorino</td>\n",
              "      <td>automatica</td>\n",
              "      <td>650</td>\n",
              "    </tr>\n",
              "    <tr>\n",
              "      <th>36</th>\n",
              "      <td>3.273406</td>\n",
              "      <td>gas</td>\n",
              "      <td>1097.472756</td>\n",
              "      <td>8</td>\n",
              "      <td>Volkswagen</td>\n",
              "      <td>amarok</td>\n",
              "      <td>automatica</td>\n",
              "      <td>830</td>\n",
              "    </tr>\n",
              "    <tr>\n",
              "      <th>1</th>\n",
              "      <td>14.196334</td>\n",
              "      <td>diesel</td>\n",
              "      <td>577.128778</td>\n",
              "      <td>8</td>\n",
              "      <td>Volkswagen</td>\n",
              "      <td>caddy</td>\n",
              "      <td>manual</td>\n",
              "      <td>800</td>\n",
              "    </tr>\n",
              "    <tr>\n",
              "      <th>73</th>\n",
              "      <td>7.554876</td>\n",
              "      <td>gas</td>\n",
              "      <td>1208.820350</td>\n",
              "      <td>8</td>\n",
              "      <td>Renaut</td>\n",
              "      <td>dacia dokker</td>\n",
              "      <td>manual</td>\n",
              "      <td>1200</td>\n",
              "    </tr>\n",
              "  </tbody>\n",
              "</table>\n",
              "</div>"
            ],
            "text/plain": [
              "    combustible_consumido tipo_combustible  ...  tipo_transm  capacidad\n",
              "14              15.712042         gasolina  ...       manual        800\n",
              "32              17.172537         gasolina  ...       manual       1000\n",
              "74               1.344234              gas  ...       manual        650\n",
              "66               4.313198              gas  ...       manual       1200\n",
              "2               15.817995              gas  ...       manual       1200\n",
              "26              13.871639              gas  ...       manual        900\n",
              "62              18.055407         gasolina  ...       manual        900\n",
              "80               1.553313           diesel  ...       manual       1100\n",
              "23              18.775130              gas  ...       manual        830\n",
              "84               3.478857              gas  ...       manual        650\n",
              "41               5.935534              gas  ...   automatica        800\n",
              "46              10.973853              gas  ...       manual        900\n",
              "0               18.959341         gasolina  ...   automatica        800\n",
              "58              17.946820         gasolina  ...       manual        800\n",
              "43               1.344234              gas  ...   automatica        900\n",
              "69              18.775130           diesel  ...       manual       1100\n",
              "52               7.124093              gas  ...       manual        900\n",
              "7                7.498964         gasolina  ...       manual        830\n",
              "88               5.757383         gasolina  ...       manual        650\n",
              "76              11.775157           diesel  ...       manual        800\n",
              "94               5.935534           diesel  ...       manual        830\n",
              "57              13.332596           diesel  ...       manual       1200\n",
              "39              14.390911         gasolina  ...       manual        830\n",
              "89               5.935534              gas  ...       manual       1100\n",
              "47               5.935534              gas  ...       manual        800\n",
              "63               1.281951              gas  ...       manual       1100\n",
              "13              16.862238              gas  ...   automatica        650\n",
              "36               3.273406              gas  ...   automatica        830\n",
              "1               14.196334           diesel  ...       manual        800\n",
              "73               7.554876              gas  ...       manual       1200\n",
              "\n",
              "[30 rows x 8 columns]"
            ]
          },
          "metadata": {
            "tags": []
          },
          "execution_count": 7
        }
      ]
    },
    {
      "cell_type": "markdown",
      "metadata": {
        "id": "eOxT7GSpdcQI"
      },
      "source": [
        "# Supervised Machine Learning"
      ]
    },
    {
      "cell_type": "code",
      "metadata": {
        "id": "GB7bntcPZDqE"
      },
      "source": [
        "# copy of the dataet\n",
        "df1 = df.copy()"
      ],
      "execution_count": 8,
      "outputs": []
    },
    {
      "cell_type": "code",
      "metadata": {
        "colab": {
          "base_uri": "https://localhost:8080/"
        },
        "id": "7oMliH6CdkIo",
        "outputId": "af4f2d6d-1ac2-49c9-df04-ce2ad66e77ee"
      },
      "source": [
        "# shape of the dataframe\n",
        "print(\"Columns: \",df1.shape[1])\n",
        "print(\"Rows \",df1.shape[0])"
      ],
      "execution_count": 9,
      "outputs": [
        {
          "output_type": "stream",
          "text": [
            "Columns:  8\n",
            "Rows  100\n"
          ],
          "name": "stdout"
        }
      ]
    },
    {
      "cell_type": "markdown",
      "metadata": {
        "id": "p3HH1YTxeQck"
      },
      "source": [
        "## Label Encoding"
      ]
    },
    {
      "cell_type": "code",
      "metadata": {
        "colab": {
          "base_uri": "https://localhost:8080/"
        },
        "id": "cBdNy0TMdo1_",
        "outputId": "a04f9a7c-0c28-467e-88e4-260c245987bf"
      },
      "source": [
        "df1.info()"
      ],
      "execution_count": 10,
      "outputs": [
        {
          "output_type": "stream",
          "text": [
            "<class 'pandas.core.frame.DataFrame'>\n",
            "RangeIndex: 100 entries, 0 to 99\n",
            "Data columns (total 8 columns):\n",
            " #   Column                 Non-Null Count  Dtype  \n",
            "---  ------                 --------------  -----  \n",
            " 0   combustible_consumido  100 non-null    float64\n",
            " 1   tipo_combustible       100 non-null    object \n",
            " 2   km                     100 non-null    float64\n",
            " 3   emision_escape         100 non-null    int64  \n",
            " 4   marca_camion           100 non-null    object \n",
            " 5   modelo                 100 non-null    object \n",
            " 6   tipo_transm            100 non-null    object \n",
            " 7   capacidad              100 non-null    int64  \n",
            "dtypes: float64(2), int64(2), object(4)\n",
            "memory usage: 6.4+ KB\n"
          ],
          "name": "stdout"
        }
      ]
    },
    {
      "cell_type": "markdown",
      "metadata": {
        "id": "GnBex3a9hw9a"
      },
      "source": [
        "### One hot encoding"
      ]
    },
    {
      "cell_type": "code",
      "metadata": {
        "colab": {
          "base_uri": "https://localhost:8080/",
          "height": 227
        },
        "id": "6bC8wbSlni-N",
        "outputId": "c5d0b4a4-4482-48ac-d09a-c105f402b18f"
      },
      "source": [
        "obj_df = df1.select_dtypes(include=[\"object\"])\n",
        "df_final = pd.get_dummies(df1, columns=obj_df.columns.tolist())\n",
        "df_final.head()"
      ],
      "execution_count": 11,
      "outputs": [
        {
          "output_type": "execute_result",
          "data": {
            "text/html": [
              "<div>\n",
              "<style scoped>\n",
              "    .dataframe tbody tr th:only-of-type {\n",
              "        vertical-align: middle;\n",
              "    }\n",
              "\n",
              "    .dataframe tbody tr th {\n",
              "        vertical-align: top;\n",
              "    }\n",
              "\n",
              "    .dataframe thead th {\n",
              "        text-align: right;\n",
              "    }\n",
              "</style>\n",
              "<table border=\"1\" class=\"dataframe\">\n",
              "  <thead>\n",
              "    <tr style=\"text-align: right;\">\n",
              "      <th></th>\n",
              "      <th>combustible_consumido</th>\n",
              "      <th>km</th>\n",
              "      <th>emision_escape</th>\n",
              "      <th>capacidad</th>\n",
              "      <th>tipo_combustible_diesel</th>\n",
              "      <th>tipo_combustible_gas</th>\n",
              "      <th>tipo_combustible_gasolina</th>\n",
              "      <th>marca_camion_Fiat</th>\n",
              "      <th>marca_camion_Mercedes</th>\n",
              "      <th>marca_camion_Renaut</th>\n",
              "      <th>marca_camion_Volkswagen</th>\n",
              "      <th>modelo_amarok</th>\n",
              "      <th>modelo_caddy</th>\n",
              "      <th>modelo_dacia dokker</th>\n",
              "      <th>modelo_ducato</th>\n",
              "      <th>modelo_fiorino</th>\n",
              "      <th>modelo_kangoo</th>\n",
              "      <th>modelo_sprinter</th>\n",
              "      <th>modelo_vito</th>\n",
              "      <th>tipo_transm_automatica</th>\n",
              "      <th>tipo_transm_manual</th>\n",
              "    </tr>\n",
              "  </thead>\n",
              "  <tbody>\n",
              "    <tr>\n",
              "      <th>0</th>\n",
              "      <td>18.959341</td>\n",
              "      <td>305.633430</td>\n",
              "      <td>8</td>\n",
              "      <td>800</td>\n",
              "      <td>0</td>\n",
              "      <td>0</td>\n",
              "      <td>1</td>\n",
              "      <td>0</td>\n",
              "      <td>0</td>\n",
              "      <td>0</td>\n",
              "      <td>1</td>\n",
              "      <td>0</td>\n",
              "      <td>1</td>\n",
              "      <td>0</td>\n",
              "      <td>0</td>\n",
              "      <td>0</td>\n",
              "      <td>0</td>\n",
              "      <td>0</td>\n",
              "      <td>0</td>\n",
              "      <td>1</td>\n",
              "      <td>0</td>\n",
              "    </tr>\n",
              "    <tr>\n",
              "      <th>1</th>\n",
              "      <td>14.196334</td>\n",
              "      <td>577.128778</td>\n",
              "      <td>8</td>\n",
              "      <td>800</td>\n",
              "      <td>1</td>\n",
              "      <td>0</td>\n",
              "      <td>0</td>\n",
              "      <td>0</td>\n",
              "      <td>0</td>\n",
              "      <td>0</td>\n",
              "      <td>1</td>\n",
              "      <td>0</td>\n",
              "      <td>1</td>\n",
              "      <td>0</td>\n",
              "      <td>0</td>\n",
              "      <td>0</td>\n",
              "      <td>0</td>\n",
              "      <td>0</td>\n",
              "      <td>0</td>\n",
              "      <td>0</td>\n",
              "      <td>1</td>\n",
              "    </tr>\n",
              "    <tr>\n",
              "      <th>2</th>\n",
              "      <td>15.817995</td>\n",
              "      <td>1680.319840</td>\n",
              "      <td>9</td>\n",
              "      <td>1200</td>\n",
              "      <td>0</td>\n",
              "      <td>1</td>\n",
              "      <td>0</td>\n",
              "      <td>0</td>\n",
              "      <td>0</td>\n",
              "      <td>1</td>\n",
              "      <td>0</td>\n",
              "      <td>0</td>\n",
              "      <td>0</td>\n",
              "      <td>1</td>\n",
              "      <td>0</td>\n",
              "      <td>0</td>\n",
              "      <td>0</td>\n",
              "      <td>0</td>\n",
              "      <td>0</td>\n",
              "      <td>0</td>\n",
              "      <td>1</td>\n",
              "    </tr>\n",
              "    <tr>\n",
              "      <th>3</th>\n",
              "      <td>15.316800</td>\n",
              "      <td>310.406932</td>\n",
              "      <td>8</td>\n",
              "      <td>830</td>\n",
              "      <td>0</td>\n",
              "      <td>1</td>\n",
              "      <td>0</td>\n",
              "      <td>0</td>\n",
              "      <td>0</td>\n",
              "      <td>0</td>\n",
              "      <td>1</td>\n",
              "      <td>1</td>\n",
              "      <td>0</td>\n",
              "      <td>0</td>\n",
              "      <td>0</td>\n",
              "      <td>0</td>\n",
              "      <td>0</td>\n",
              "      <td>0</td>\n",
              "      <td>0</td>\n",
              "      <td>0</td>\n",
              "      <td>1</td>\n",
              "    </tr>\n",
              "    <tr>\n",
              "      <th>4</th>\n",
              "      <td>7.124093</td>\n",
              "      <td>560.996378</td>\n",
              "      <td>9</td>\n",
              "      <td>830</td>\n",
              "      <td>1</td>\n",
              "      <td>0</td>\n",
              "      <td>0</td>\n",
              "      <td>0</td>\n",
              "      <td>0</td>\n",
              "      <td>0</td>\n",
              "      <td>1</td>\n",
              "      <td>1</td>\n",
              "      <td>0</td>\n",
              "      <td>0</td>\n",
              "      <td>0</td>\n",
              "      <td>0</td>\n",
              "      <td>0</td>\n",
              "      <td>0</td>\n",
              "      <td>0</td>\n",
              "      <td>0</td>\n",
              "      <td>1</td>\n",
              "    </tr>\n",
              "  </tbody>\n",
              "</table>\n",
              "</div>"
            ],
            "text/plain": [
              "   combustible_consumido  ...  tipo_transm_manual\n",
              "0              18.959341  ...                   0\n",
              "1              14.196334  ...                   1\n",
              "2              15.817995  ...                   1\n",
              "3              15.316800  ...                   1\n",
              "4               7.124093  ...                   1\n",
              "\n",
              "[5 rows x 21 columns]"
            ]
          },
          "metadata": {
            "tags": []
          },
          "execution_count": 11
        }
      ]
    },
    {
      "cell_type": "code",
      "metadata": {
        "colab": {
          "base_uri": "https://localhost:8080/",
          "height": 371
        },
        "id": "od48shxTmAO2",
        "outputId": "83b6a79e-57f8-4c41-da32-69b8525444d5"
      },
      "source": [
        "df_final.sample(10)"
      ],
      "execution_count": 12,
      "outputs": [
        {
          "output_type": "execute_result",
          "data": {
            "text/html": [
              "<div>\n",
              "<style scoped>\n",
              "    .dataframe tbody tr th:only-of-type {\n",
              "        vertical-align: middle;\n",
              "    }\n",
              "\n",
              "    .dataframe tbody tr th {\n",
              "        vertical-align: top;\n",
              "    }\n",
              "\n",
              "    .dataframe thead th {\n",
              "        text-align: right;\n",
              "    }\n",
              "</style>\n",
              "<table border=\"1\" class=\"dataframe\">\n",
              "  <thead>\n",
              "    <tr style=\"text-align: right;\">\n",
              "      <th></th>\n",
              "      <th>combustible_consumido</th>\n",
              "      <th>km</th>\n",
              "      <th>emision_escape</th>\n",
              "      <th>capacidad</th>\n",
              "      <th>tipo_combustible_diesel</th>\n",
              "      <th>tipo_combustible_gas</th>\n",
              "      <th>tipo_combustible_gasolina</th>\n",
              "      <th>marca_camion_Fiat</th>\n",
              "      <th>marca_camion_Mercedes</th>\n",
              "      <th>marca_camion_Renaut</th>\n",
              "      <th>marca_camion_Volkswagen</th>\n",
              "      <th>modelo_amarok</th>\n",
              "      <th>modelo_caddy</th>\n",
              "      <th>modelo_dacia dokker</th>\n",
              "      <th>modelo_ducato</th>\n",
              "      <th>modelo_fiorino</th>\n",
              "      <th>modelo_kangoo</th>\n",
              "      <th>modelo_sprinter</th>\n",
              "      <th>modelo_vito</th>\n",
              "      <th>tipo_transm_automatica</th>\n",
              "      <th>tipo_transm_manual</th>\n",
              "    </tr>\n",
              "  </thead>\n",
              "  <tbody>\n",
              "    <tr>\n",
              "      <th>27</th>\n",
              "      <td>11.775157</td>\n",
              "      <td>1312.150929</td>\n",
              "      <td>7</td>\n",
              "      <td>1000</td>\n",
              "      <td>0</td>\n",
              "      <td>0</td>\n",
              "      <td>1</td>\n",
              "      <td>0</td>\n",
              "      <td>1</td>\n",
              "      <td>0</td>\n",
              "      <td>0</td>\n",
              "      <td>0</td>\n",
              "      <td>0</td>\n",
              "      <td>0</td>\n",
              "      <td>0</td>\n",
              "      <td>0</td>\n",
              "      <td>0</td>\n",
              "      <td>1</td>\n",
              "      <td>0</td>\n",
              "      <td>0</td>\n",
              "      <td>1</td>\n",
              "    </tr>\n",
              "    <tr>\n",
              "      <th>5</th>\n",
              "      <td>13.215937</td>\n",
              "      <td>1216.834152</td>\n",
              "      <td>9</td>\n",
              "      <td>800</td>\n",
              "      <td>1</td>\n",
              "      <td>0</td>\n",
              "      <td>0</td>\n",
              "      <td>0</td>\n",
              "      <td>0</td>\n",
              "      <td>0</td>\n",
              "      <td>1</td>\n",
              "      <td>0</td>\n",
              "      <td>1</td>\n",
              "      <td>0</td>\n",
              "      <td>0</td>\n",
              "      <td>0</td>\n",
              "      <td>0</td>\n",
              "      <td>0</td>\n",
              "      <td>0</td>\n",
              "      <td>0</td>\n",
              "      <td>1</td>\n",
              "    </tr>\n",
              "    <tr>\n",
              "      <th>92</th>\n",
              "      <td>10.868702</td>\n",
              "      <td>878.376363</td>\n",
              "      <td>8</td>\n",
              "      <td>830</td>\n",
              "      <td>0</td>\n",
              "      <td>0</td>\n",
              "      <td>1</td>\n",
              "      <td>0</td>\n",
              "      <td>0</td>\n",
              "      <td>0</td>\n",
              "      <td>1</td>\n",
              "      <td>1</td>\n",
              "      <td>0</td>\n",
              "      <td>0</td>\n",
              "      <td>0</td>\n",
              "      <td>0</td>\n",
              "      <td>0</td>\n",
              "      <td>0</td>\n",
              "      <td>0</td>\n",
              "      <td>0</td>\n",
              "      <td>1</td>\n",
              "    </tr>\n",
              "    <tr>\n",
              "      <th>70</th>\n",
              "      <td>4.313198</td>\n",
              "      <td>355.445268</td>\n",
              "      <td>6</td>\n",
              "      <td>900</td>\n",
              "      <td>1</td>\n",
              "      <td>0</td>\n",
              "      <td>0</td>\n",
              "      <td>1</td>\n",
              "      <td>0</td>\n",
              "      <td>0</td>\n",
              "      <td>0</td>\n",
              "      <td>0</td>\n",
              "      <td>0</td>\n",
              "      <td>0</td>\n",
              "      <td>1</td>\n",
              "      <td>0</td>\n",
              "      <td>0</td>\n",
              "      <td>0</td>\n",
              "      <td>0</td>\n",
              "      <td>0</td>\n",
              "      <td>1</td>\n",
              "    </tr>\n",
              "    <tr>\n",
              "      <th>95</th>\n",
              "      <td>5.935534</td>\n",
              "      <td>1589.407813</td>\n",
              "      <td>7</td>\n",
              "      <td>1100</td>\n",
              "      <td>1</td>\n",
              "      <td>0</td>\n",
              "      <td>0</td>\n",
              "      <td>0</td>\n",
              "      <td>1</td>\n",
              "      <td>0</td>\n",
              "      <td>0</td>\n",
              "      <td>0</td>\n",
              "      <td>0</td>\n",
              "      <td>0</td>\n",
              "      <td>0</td>\n",
              "      <td>0</td>\n",
              "      <td>0</td>\n",
              "      <td>0</td>\n",
              "      <td>1</td>\n",
              "      <td>0</td>\n",
              "      <td>1</td>\n",
              "    </tr>\n",
              "    <tr>\n",
              "      <th>69</th>\n",
              "      <td>18.775130</td>\n",
              "      <td>1610.093695</td>\n",
              "      <td>7</td>\n",
              "      <td>1100</td>\n",
              "      <td>1</td>\n",
              "      <td>0</td>\n",
              "      <td>0</td>\n",
              "      <td>0</td>\n",
              "      <td>1</td>\n",
              "      <td>0</td>\n",
              "      <td>0</td>\n",
              "      <td>0</td>\n",
              "      <td>0</td>\n",
              "      <td>0</td>\n",
              "      <td>0</td>\n",
              "      <td>0</td>\n",
              "      <td>0</td>\n",
              "      <td>0</td>\n",
              "      <td>1</td>\n",
              "      <td>0</td>\n",
              "      <td>1</td>\n",
              "    </tr>\n",
              "    <tr>\n",
              "      <th>59</th>\n",
              "      <td>15.316800</td>\n",
              "      <td>1371.917044</td>\n",
              "      <td>8</td>\n",
              "      <td>1100</td>\n",
              "      <td>0</td>\n",
              "      <td>1</td>\n",
              "      <td>0</td>\n",
              "      <td>0</td>\n",
              "      <td>1</td>\n",
              "      <td>0</td>\n",
              "      <td>0</td>\n",
              "      <td>0</td>\n",
              "      <td>0</td>\n",
              "      <td>0</td>\n",
              "      <td>0</td>\n",
              "      <td>0</td>\n",
              "      <td>0</td>\n",
              "      <td>0</td>\n",
              "      <td>1</td>\n",
              "      <td>1</td>\n",
              "      <td>0</td>\n",
              "    </tr>\n",
              "    <tr>\n",
              "      <th>96</th>\n",
              "      <td>14.196334</td>\n",
              "      <td>460.316669</td>\n",
              "      <td>6</td>\n",
              "      <td>830</td>\n",
              "      <td>1</td>\n",
              "      <td>0</td>\n",
              "      <td>0</td>\n",
              "      <td>0</td>\n",
              "      <td>0</td>\n",
              "      <td>0</td>\n",
              "      <td>1</td>\n",
              "      <td>1</td>\n",
              "      <td>0</td>\n",
              "      <td>0</td>\n",
              "      <td>0</td>\n",
              "      <td>0</td>\n",
              "      <td>0</td>\n",
              "      <td>0</td>\n",
              "      <td>0</td>\n",
              "      <td>1</td>\n",
              "      <td>0</td>\n",
              "    </tr>\n",
              "    <tr>\n",
              "      <th>7</th>\n",
              "      <td>7.498964</td>\n",
              "      <td>1093.022415</td>\n",
              "      <td>7</td>\n",
              "      <td>830</td>\n",
              "      <td>0</td>\n",
              "      <td>0</td>\n",
              "      <td>1</td>\n",
              "      <td>0</td>\n",
              "      <td>0</td>\n",
              "      <td>0</td>\n",
              "      <td>1</td>\n",
              "      <td>1</td>\n",
              "      <td>0</td>\n",
              "      <td>0</td>\n",
              "      <td>0</td>\n",
              "      <td>0</td>\n",
              "      <td>0</td>\n",
              "      <td>0</td>\n",
              "      <td>0</td>\n",
              "      <td>0</td>\n",
              "      <td>1</td>\n",
              "    </tr>\n",
              "    <tr>\n",
              "      <th>10</th>\n",
              "      <td>3.008120</td>\n",
              "      <td>1460.786328</td>\n",
              "      <td>8</td>\n",
              "      <td>1000</td>\n",
              "      <td>1</td>\n",
              "      <td>0</td>\n",
              "      <td>0</td>\n",
              "      <td>0</td>\n",
              "      <td>1</td>\n",
              "      <td>0</td>\n",
              "      <td>0</td>\n",
              "      <td>0</td>\n",
              "      <td>0</td>\n",
              "      <td>0</td>\n",
              "      <td>0</td>\n",
              "      <td>0</td>\n",
              "      <td>0</td>\n",
              "      <td>1</td>\n",
              "      <td>0</td>\n",
              "      <td>0</td>\n",
              "      <td>1</td>\n",
              "    </tr>\n",
              "  </tbody>\n",
              "</table>\n",
              "</div>"
            ],
            "text/plain": [
              "    combustible_consumido  ...  tipo_transm_manual\n",
              "27              11.775157  ...                   1\n",
              "5               13.215937  ...                   1\n",
              "92              10.868702  ...                   1\n",
              "70               4.313198  ...                   1\n",
              "95               5.935534  ...                   1\n",
              "69              18.775130  ...                   1\n",
              "59              15.316800  ...                   0\n",
              "96              14.196334  ...                   0\n",
              "7                7.498964  ...                   1\n",
              "10               3.008120  ...                   1\n",
              "\n",
              "[10 rows x 21 columns]"
            ]
          },
          "metadata": {
            "tags": []
          },
          "execution_count": 12
        }
      ]
    },
    {
      "cell_type": "code",
      "metadata": {
        "colab": {
          "base_uri": "https://localhost:8080/"
        },
        "id": "fB9rNBgHlUpm",
        "outputId": "5a291124-dfac-46c5-f0d0-39c9c41b9aaa"
      },
      "source": [
        "# Final shape\n",
        "print(\"Columns:\", df_final.shape[1])\n",
        "print(\"Rows:\", df_final.shape[0])"
      ],
      "execution_count": 13,
      "outputs": [
        {
          "output_type": "stream",
          "text": [
            "Columns: 21\n",
            "Rows: 100\n"
          ],
          "name": "stdout"
        }
      ]
    },
    {
      "cell_type": "code",
      "metadata": {
        "colab": {
          "base_uri": "https://localhost:8080/",
          "height": 651
        },
        "id": "s6YqUnZHm-TY",
        "outputId": "5290b7c3-a85a-457f-9fca-184a1025f0b3"
      },
      "source": [
        "df_final.describe().T"
      ],
      "execution_count": 14,
      "outputs": [
        {
          "output_type": "execute_result",
          "data": {
            "text/html": [
              "<div>\n",
              "<style scoped>\n",
              "    .dataframe tbody tr th:only-of-type {\n",
              "        vertical-align: middle;\n",
              "    }\n",
              "\n",
              "    .dataframe tbody tr th {\n",
              "        vertical-align: top;\n",
              "    }\n",
              "\n",
              "    .dataframe thead th {\n",
              "        text-align: right;\n",
              "    }\n",
              "</style>\n",
              "<table border=\"1\" class=\"dataframe\">\n",
              "  <thead>\n",
              "    <tr style=\"text-align: right;\">\n",
              "      <th></th>\n",
              "      <th>count</th>\n",
              "      <th>mean</th>\n",
              "      <th>std</th>\n",
              "      <th>min</th>\n",
              "      <th>25%</th>\n",
              "      <th>50%</th>\n",
              "      <th>75%</th>\n",
              "      <th>max</th>\n",
              "    </tr>\n",
              "  </thead>\n",
              "  <tbody>\n",
              "    <tr>\n",
              "      <th>combustible_consumido</th>\n",
              "      <td>100.0</td>\n",
              "      <td>10.279419</td>\n",
              "      <td>6.218148</td>\n",
              "      <td>0.153712</td>\n",
              "      <td>5.452775</td>\n",
              "      <td>11.244233</td>\n",
              "      <td>15.909801</td>\n",
              "      <td>19.631312</td>\n",
              "    </tr>\n",
              "    <tr>\n",
              "      <th>km</th>\n",
              "      <td>100.0</td>\n",
              "      <td>1055.675081</td>\n",
              "      <td>535.287904</td>\n",
              "      <td>122.566064</td>\n",
              "      <td>573.095678</td>\n",
              "      <td>1077.911674</td>\n",
              "      <td>1505.644627</td>\n",
              "      <td>1956.975408</td>\n",
              "    </tr>\n",
              "    <tr>\n",
              "      <th>emision_escape</th>\n",
              "      <td>100.0</td>\n",
              "      <td>7.440000</td>\n",
              "      <td>0.756387</td>\n",
              "      <td>6.000000</td>\n",
              "      <td>7.000000</td>\n",
              "      <td>7.000000</td>\n",
              "      <td>8.000000</td>\n",
              "      <td>9.000000</td>\n",
              "    </tr>\n",
              "    <tr>\n",
              "      <th>capacidad</th>\n",
              "      <td>100.0</td>\n",
              "      <td>894.800000</td>\n",
              "      <td>162.234896</td>\n",
              "      <td>650.000000</td>\n",
              "      <td>800.000000</td>\n",
              "      <td>830.000000</td>\n",
              "      <td>1000.000000</td>\n",
              "      <td>1200.000000</td>\n",
              "    </tr>\n",
              "    <tr>\n",
              "      <th>tipo_combustible_diesel</th>\n",
              "      <td>100.0</td>\n",
              "      <td>0.370000</td>\n",
              "      <td>0.485237</td>\n",
              "      <td>0.000000</td>\n",
              "      <td>0.000000</td>\n",
              "      <td>0.000000</td>\n",
              "      <td>1.000000</td>\n",
              "      <td>1.000000</td>\n",
              "    </tr>\n",
              "    <tr>\n",
              "      <th>tipo_combustible_gas</th>\n",
              "      <td>100.0</td>\n",
              "      <td>0.400000</td>\n",
              "      <td>0.492366</td>\n",
              "      <td>0.000000</td>\n",
              "      <td>0.000000</td>\n",
              "      <td>0.000000</td>\n",
              "      <td>1.000000</td>\n",
              "      <td>1.000000</td>\n",
              "    </tr>\n",
              "    <tr>\n",
              "      <th>tipo_combustible_gasolina</th>\n",
              "      <td>100.0</td>\n",
              "      <td>0.230000</td>\n",
              "      <td>0.422953</td>\n",
              "      <td>0.000000</td>\n",
              "      <td>0.000000</td>\n",
              "      <td>0.000000</td>\n",
              "      <td>0.000000</td>\n",
              "      <td>1.000000</td>\n",
              "    </tr>\n",
              "    <tr>\n",
              "      <th>marca_camion_Fiat</th>\n",
              "      <td>100.0</td>\n",
              "      <td>0.240000</td>\n",
              "      <td>0.429235</td>\n",
              "      <td>0.000000</td>\n",
              "      <td>0.000000</td>\n",
              "      <td>0.000000</td>\n",
              "      <td>0.000000</td>\n",
              "      <td>1.000000</td>\n",
              "    </tr>\n",
              "    <tr>\n",
              "      <th>marca_camion_Mercedes</th>\n",
              "      <td>100.0</td>\n",
              "      <td>0.210000</td>\n",
              "      <td>0.409360</td>\n",
              "      <td>0.000000</td>\n",
              "      <td>0.000000</td>\n",
              "      <td>0.000000</td>\n",
              "      <td>0.000000</td>\n",
              "      <td>1.000000</td>\n",
              "    </tr>\n",
              "    <tr>\n",
              "      <th>marca_camion_Renaut</th>\n",
              "      <td>100.0</td>\n",
              "      <td>0.250000</td>\n",
              "      <td>0.435194</td>\n",
              "      <td>0.000000</td>\n",
              "      <td>0.000000</td>\n",
              "      <td>0.000000</td>\n",
              "      <td>0.250000</td>\n",
              "      <td>1.000000</td>\n",
              "    </tr>\n",
              "    <tr>\n",
              "      <th>marca_camion_Volkswagen</th>\n",
              "      <td>100.0</td>\n",
              "      <td>0.300000</td>\n",
              "      <td>0.460566</td>\n",
              "      <td>0.000000</td>\n",
              "      <td>0.000000</td>\n",
              "      <td>0.000000</td>\n",
              "      <td>1.000000</td>\n",
              "      <td>1.000000</td>\n",
              "    </tr>\n",
              "    <tr>\n",
              "      <th>modelo_amarok</th>\n",
              "      <td>100.0</td>\n",
              "      <td>0.160000</td>\n",
              "      <td>0.368453</td>\n",
              "      <td>0.000000</td>\n",
              "      <td>0.000000</td>\n",
              "      <td>0.000000</td>\n",
              "      <td>0.000000</td>\n",
              "      <td>1.000000</td>\n",
              "    </tr>\n",
              "    <tr>\n",
              "      <th>modelo_caddy</th>\n",
              "      <td>100.0</td>\n",
              "      <td>0.140000</td>\n",
              "      <td>0.348735</td>\n",
              "      <td>0.000000</td>\n",
              "      <td>0.000000</td>\n",
              "      <td>0.000000</td>\n",
              "      <td>0.000000</td>\n",
              "      <td>1.000000</td>\n",
              "    </tr>\n",
              "    <tr>\n",
              "      <th>modelo_dacia dokker</th>\n",
              "      <td>100.0</td>\n",
              "      <td>0.110000</td>\n",
              "      <td>0.314466</td>\n",
              "      <td>0.000000</td>\n",
              "      <td>0.000000</td>\n",
              "      <td>0.000000</td>\n",
              "      <td>0.000000</td>\n",
              "      <td>1.000000</td>\n",
              "    </tr>\n",
              "    <tr>\n",
              "      <th>modelo_ducato</th>\n",
              "      <td>100.0</td>\n",
              "      <td>0.120000</td>\n",
              "      <td>0.326599</td>\n",
              "      <td>0.000000</td>\n",
              "      <td>0.000000</td>\n",
              "      <td>0.000000</td>\n",
              "      <td>0.000000</td>\n",
              "      <td>1.000000</td>\n",
              "    </tr>\n",
              "    <tr>\n",
              "      <th>modelo_fiorino</th>\n",
              "      <td>100.0</td>\n",
              "      <td>0.120000</td>\n",
              "      <td>0.326599</td>\n",
              "      <td>0.000000</td>\n",
              "      <td>0.000000</td>\n",
              "      <td>0.000000</td>\n",
              "      <td>0.000000</td>\n",
              "      <td>1.000000</td>\n",
              "    </tr>\n",
              "    <tr>\n",
              "      <th>modelo_kangoo</th>\n",
              "      <td>100.0</td>\n",
              "      <td>0.140000</td>\n",
              "      <td>0.348735</td>\n",
              "      <td>0.000000</td>\n",
              "      <td>0.000000</td>\n",
              "      <td>0.000000</td>\n",
              "      <td>0.000000</td>\n",
              "      <td>1.000000</td>\n",
              "    </tr>\n",
              "    <tr>\n",
              "      <th>modelo_sprinter</th>\n",
              "      <td>100.0</td>\n",
              "      <td>0.110000</td>\n",
              "      <td>0.314466</td>\n",
              "      <td>0.000000</td>\n",
              "      <td>0.000000</td>\n",
              "      <td>0.000000</td>\n",
              "      <td>0.000000</td>\n",
              "      <td>1.000000</td>\n",
              "    </tr>\n",
              "    <tr>\n",
              "      <th>modelo_vito</th>\n",
              "      <td>100.0</td>\n",
              "      <td>0.100000</td>\n",
              "      <td>0.301511</td>\n",
              "      <td>0.000000</td>\n",
              "      <td>0.000000</td>\n",
              "      <td>0.000000</td>\n",
              "      <td>0.000000</td>\n",
              "      <td>1.000000</td>\n",
              "    </tr>\n",
              "    <tr>\n",
              "      <th>tipo_transm_automatica</th>\n",
              "      <td>100.0</td>\n",
              "      <td>0.170000</td>\n",
              "      <td>0.377525</td>\n",
              "      <td>0.000000</td>\n",
              "      <td>0.000000</td>\n",
              "      <td>0.000000</td>\n",
              "      <td>0.000000</td>\n",
              "      <td>1.000000</td>\n",
              "    </tr>\n",
              "    <tr>\n",
              "      <th>tipo_transm_manual</th>\n",
              "      <td>100.0</td>\n",
              "      <td>0.830000</td>\n",
              "      <td>0.377525</td>\n",
              "      <td>0.000000</td>\n",
              "      <td>1.000000</td>\n",
              "      <td>1.000000</td>\n",
              "      <td>1.000000</td>\n",
              "      <td>1.000000</td>\n",
              "    </tr>\n",
              "  </tbody>\n",
              "</table>\n",
              "</div>"
            ],
            "text/plain": [
              "                           count         mean  ...          75%          max\n",
              "combustible_consumido      100.0    10.279419  ...    15.909801    19.631312\n",
              "km                         100.0  1055.675081  ...  1505.644627  1956.975408\n",
              "emision_escape             100.0     7.440000  ...     8.000000     9.000000\n",
              "capacidad                  100.0   894.800000  ...  1000.000000  1200.000000\n",
              "tipo_combustible_diesel    100.0     0.370000  ...     1.000000     1.000000\n",
              "tipo_combustible_gas       100.0     0.400000  ...     1.000000     1.000000\n",
              "tipo_combustible_gasolina  100.0     0.230000  ...     0.000000     1.000000\n",
              "marca_camion_Fiat          100.0     0.240000  ...     0.000000     1.000000\n",
              "marca_camion_Mercedes      100.0     0.210000  ...     0.000000     1.000000\n",
              "marca_camion_Renaut        100.0     0.250000  ...     0.250000     1.000000\n",
              "marca_camion_Volkswagen    100.0     0.300000  ...     1.000000     1.000000\n",
              "modelo_amarok              100.0     0.160000  ...     0.000000     1.000000\n",
              "modelo_caddy               100.0     0.140000  ...     0.000000     1.000000\n",
              "modelo_dacia dokker        100.0     0.110000  ...     0.000000     1.000000\n",
              "modelo_ducato              100.0     0.120000  ...     0.000000     1.000000\n",
              "modelo_fiorino             100.0     0.120000  ...     0.000000     1.000000\n",
              "modelo_kangoo              100.0     0.140000  ...     0.000000     1.000000\n",
              "modelo_sprinter            100.0     0.110000  ...     0.000000     1.000000\n",
              "modelo_vito                100.0     0.100000  ...     0.000000     1.000000\n",
              "tipo_transm_automatica     100.0     0.170000  ...     0.000000     1.000000\n",
              "tipo_transm_manual         100.0     0.830000  ...     1.000000     1.000000\n",
              "\n",
              "[21 rows x 8 columns]"
            ]
          },
          "metadata": {
            "tags": []
          },
          "execution_count": 14
        }
      ]
    },
    {
      "cell_type": "markdown",
      "metadata": {
        "id": "DiFRMzT-odd4"
      },
      "source": [
        "## xgboost"
      ]
    },
    {
      "cell_type": "code",
      "metadata": {
        "id": "ViXXOjkSo-Co"
      },
      "source": [
        "X = df_final.drop([\"combustible_consumido\"], axis=1) # values\n",
        "y = df_final[\"combustible_consumido\"] # target"
      ],
      "execution_count": 15,
      "outputs": []
    },
    {
      "cell_type": "markdown",
      "metadata": {
        "id": "ea3ofjUtqc7y"
      },
      "source": [
        "converting the dataset into an optimized data structure called Dmatrix that XGBoost supports and gives it acclaimed performance and efficiency gains."
      ]
    },
    {
      "cell_type": "code",
      "metadata": {
        "id": "8MSWvLR6pXAy"
      },
      "source": [
        "data_dmatrix = xgb.DMatrix(data=X,label=y)"
      ],
      "execution_count": 16,
      "outputs": []
    },
    {
      "cell_type": "markdown",
      "metadata": {
        "id": "c8Z9eG0lqgR3"
      },
      "source": [
        "training the data"
      ]
    },
    {
      "cell_type": "code",
      "metadata": {
        "id": "CXIcS8nsp-rB"
      },
      "source": [
        "X_train, X_test, y_train, y_test = train_test_split(X, y, test_size=0.2, random_state=123)"
      ],
      "execution_count": 17,
      "outputs": []
    },
    {
      "cell_type": "markdown",
      "metadata": {
        "id": "p-VRv1lnqwzs"
      },
      "source": [
        "XGBoost regressor object"
      ]
    },
    {
      "cell_type": "code",
      "metadata": {
        "id": "Q0gWGznBqoZU"
      },
      "source": [
        "xg_reg = xgb.XGBRegressor(objective ='reg:linear', colsample_bytree = 0.3, learning_rate = 0.1,\n",
        "                max_depth = 5, alpha = 10, n_estimators = 10)"
      ],
      "execution_count": 18,
      "outputs": []
    },
    {
      "cell_type": "markdown",
      "metadata": {
        "id": "qsym5cveq27_"
      },
      "source": [
        "Fit the regressor to the training set and make predictions on the test"
      ]
    },
    {
      "cell_type": "code",
      "metadata": {
        "colab": {
          "base_uri": "https://localhost:8080/"
        },
        "id": "dXdZZ0cwqzGW",
        "outputId": "51dc5af7-395b-4a4f-8469-5c74f55b9991"
      },
      "source": [
        "xg_reg.fit(X_train,y_train)\n",
        "preds = xg_reg.predict(X_test)"
      ],
      "execution_count": 19,
      "outputs": [
        {
          "output_type": "stream",
          "text": [
            "[08:25:31] WARNING: /workspace/src/objective/regression_obj.cu:152: reg:linear is now deprecated in favor of reg:squarederror.\n"
          ],
          "name": "stdout"
        }
      ]
    },
    {
      "cell_type": "markdown",
      "metadata": {
        "id": "G12JgRheq9GQ"
      },
      "source": [
        "Metrics: mean_sqaured_error"
      ]
    },
    {
      "cell_type": "code",
      "metadata": {
        "colab": {
          "base_uri": "https://localhost:8080/"
        },
        "id": "n_fD5B7nq5Sm",
        "outputId": "d727b34d-3d2a-47f2-eb8a-c40da76b03bf"
      },
      "source": [
        "rmse = np.sqrt(mean_squared_error(y_test, preds))\n",
        "print(\"RMSE: %f\" % (rmse))"
      ],
      "execution_count": 20,
      "outputs": [
        {
          "output_type": "stream",
          "text": [
            "RMSE: 6.997499\n"
          ],
          "name": "stdout"
        }
      ]
    },
    {
      "cell_type": "code",
      "metadata": {
        "colab": {
          "base_uri": "https://localhost:8080/"
        },
        "id": "nweHuXnprAUN",
        "outputId": "77adc1db-e874-4d48-b583-08a0255901f9"
      },
      "source": [
        "params = {\"objective\":\"reg:linear\",'colsample_bytree': 0.3,'learning_rate': 0.1,\n",
        "                'max_depth': 5, 'alpha': 10}\n",
        "\n",
        "cv_results = xgb.cv(dtrain=data_dmatrix, params=params, nfold=3,\n",
        "                    num_boost_round=50,early_stopping_rounds=10,metrics=\"rmse\", as_pandas=True, seed=123)"
      ],
      "execution_count": 21,
      "outputs": [
        {
          "output_type": "stream",
          "text": [
            "[08:25:31] WARNING: /workspace/src/objective/regression_obj.cu:152: reg:linear is now deprecated in favor of reg:squarederror.\n",
            "[08:25:31] WARNING: /workspace/src/objective/regression_obj.cu:152: reg:linear is now deprecated in favor of reg:squarederror.\n",
            "[08:25:31] WARNING: /workspace/src/objective/regression_obj.cu:152: reg:linear is now deprecated in favor of reg:squarederror.\n"
          ],
          "name": "stdout"
        }
      ]
    },
    {
      "cell_type": "code",
      "metadata": {
        "colab": {
          "base_uri": "https://localhost:8080/",
          "height": 191
        },
        "id": "A78RphTurWHE",
        "outputId": "ed1e2f8c-21df-4d62-e10e-fc42cfa2fd8f"
      },
      "source": [
        "cv_results.head()\n"
      ],
      "execution_count": 22,
      "outputs": [
        {
          "output_type": "execute_result",
          "data": {
            "text/html": [
              "<div>\n",
              "<style scoped>\n",
              "    .dataframe tbody tr th:only-of-type {\n",
              "        vertical-align: middle;\n",
              "    }\n",
              "\n",
              "    .dataframe tbody tr th {\n",
              "        vertical-align: top;\n",
              "    }\n",
              "\n",
              "    .dataframe thead th {\n",
              "        text-align: right;\n",
              "    }\n",
              "</style>\n",
              "<table border=\"1\" class=\"dataframe\">\n",
              "  <thead>\n",
              "    <tr style=\"text-align: right;\">\n",
              "      <th></th>\n",
              "      <th>train-rmse-mean</th>\n",
              "      <th>train-rmse-std</th>\n",
              "      <th>test-rmse-mean</th>\n",
              "      <th>test-rmse-std</th>\n",
              "    </tr>\n",
              "  </thead>\n",
              "  <tbody>\n",
              "    <tr>\n",
              "      <th>0</th>\n",
              "      <td>10.769302</td>\n",
              "      <td>0.350389</td>\n",
              "      <td>10.771727</td>\n",
              "      <td>0.851017</td>\n",
              "    </tr>\n",
              "    <tr>\n",
              "      <th>1</th>\n",
              "      <td>10.052067</td>\n",
              "      <td>0.307143</td>\n",
              "      <td>10.101152</td>\n",
              "      <td>0.872921</td>\n",
              "    </tr>\n",
              "    <tr>\n",
              "      <th>2</th>\n",
              "      <td>9.435628</td>\n",
              "      <td>0.276257</td>\n",
              "      <td>9.508807</td>\n",
              "      <td>0.864984</td>\n",
              "    </tr>\n",
              "    <tr>\n",
              "      <th>3</th>\n",
              "      <td>8.881875</td>\n",
              "      <td>0.232731</td>\n",
              "      <td>9.003097</td>\n",
              "      <td>0.892196</td>\n",
              "    </tr>\n",
              "    <tr>\n",
              "      <th>4</th>\n",
              "      <td>8.420899</td>\n",
              "      <td>0.204118</td>\n",
              "      <td>8.555839</td>\n",
              "      <td>0.863404</td>\n",
              "    </tr>\n",
              "  </tbody>\n",
              "</table>\n",
              "</div>"
            ],
            "text/plain": [
              "   train-rmse-mean  train-rmse-std  test-rmse-mean  test-rmse-std\n",
              "0        10.769302        0.350389       10.771727       0.851017\n",
              "1        10.052067        0.307143       10.101152       0.872921\n",
              "2         9.435628        0.276257        9.508807       0.864984\n",
              "3         8.881875        0.232731        9.003097       0.892196\n",
              "4         8.420899        0.204118        8.555839       0.863404"
            ]
          },
          "metadata": {
            "tags": []
          },
          "execution_count": 22
        }
      ]
    },
    {
      "cell_type": "markdown",
      "metadata": {
        "id": "sdU-qGXlreoe"
      },
      "source": [
        "Extract and print the final boosting round metric"
      ]
    },
    {
      "cell_type": "code",
      "metadata": {
        "colab": {
          "base_uri": "https://localhost:8080/"
        },
        "id": "rFCh50ptrYI6",
        "outputId": "056316b9-769b-46c7-9047-147e786af65c"
      },
      "source": [
        "print((cv_results[\"test-rmse-mean\"]).tail(1))\n"
      ],
      "execution_count": 23,
      "outputs": [
        {
          "output_type": "stream",
          "text": [
            "32    6.349573\n",
            "Name: test-rmse-mean, dtype: float64\n"
          ],
          "name": "stdout"
        }
      ]
    },
    {
      "cell_type": "markdown",
      "metadata": {
        "id": "wLJbXFgQrnBE"
      },
      "source": [
        "Visualize Boosting Trees and Feature Importance"
      ]
    },
    {
      "cell_type": "code",
      "metadata": {
        "colab": {
          "base_uri": "https://localhost:8080/"
        },
        "id": "FO00GomUrgje",
        "outputId": "687cc726-2630-43d8-fcb4-b31c71acc3bf"
      },
      "source": [
        "xg_reg = xgb.train(params=params, dtrain=data_dmatrix, num_boost_round=10)"
      ],
      "execution_count": 24,
      "outputs": [
        {
          "output_type": "stream",
          "text": [
            "[08:25:31] WARNING: /workspace/src/objective/regression_obj.cu:152: reg:linear is now deprecated in favor of reg:squarederror.\n"
          ],
          "name": "stdout"
        }
      ]
    },
    {
      "cell_type": "code",
      "metadata": {
        "colab": {
          "base_uri": "https://localhost:8080/",
          "height": 575
        },
        "id": "j8pdAjvsro8f",
        "outputId": "4ecb2a21-7ed6-41f8-af86-ccaafb8618d7"
      },
      "source": [
        "xgb.plot_tree(xg_reg,num_trees=5)\n",
        "plt.rcParams['figure.figsize'] = [80, 30]\n",
        "plt.show()"
      ],
      "execution_count": 28,
      "outputs": [
        {
          "output_type": "display_data",
          "data": {
            "image/png": "[encoded data removed]",
            "text/plain": [
              "<Figure size 5760x720 with 1 Axes>"
            ]
          },
          "metadata": {
            "tags": [],
            "needs_background": "light"
          }
        }
      ]
    },
    {
      "cell_type": "code",
      "metadata": {
        "colab": {
          "base_uri": "https://localhost:8080/",
          "height": 342
        },
        "id": "bJYlawNPrris",
        "outputId": "ed0e1c04-8103-4be4-9e8b-9f03be71f8bc"
      },
      "source": [
        "xgb.plot_importance(xg_reg)\n",
        "plt.rcParams['figure.figsize'] = [5, 5]\n",
        "plt.show()"
      ],
      "execution_count": 26,
      "outputs": [
        {
          "output_type": "display_data",
          "data": {
            "image/png": "[encoded data removed]",
            "text/plain": [
              "<Figure size 3600x720 with 1 Axes>"
            ]
          },
          "metadata": {
            "tags": [],
            "needs_background": "light"
          }
        }
      ]
    },
    {
      "cell_type": "code",
      "metadata": {
        "id": "yAqeT8jBsFKA"
      },
      "source": [
        ""
      ],
      "execution_count": 26,
      "outputs": []
    }
  ]
}